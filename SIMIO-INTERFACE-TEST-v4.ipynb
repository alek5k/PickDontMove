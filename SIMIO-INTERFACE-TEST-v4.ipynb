{
 "cells": [
  {
   "cell_type": "code",
   "execution_count": null,
   "metadata": {
    "scrolled": false
   },
   "outputs": [],
   "source": [
    "import zmq\n",
    "import json\n",
    "import random\n",
    "from SimioEnv import SimioPickDontMoveEnv\n",
    "from gym import spaces\n",
    "import numpy as np\n",
    "from gym_helpers import flatten_space_sample\n",
    "import tensorflow as tf\n",
    "\n",
    "from IPython.core.debugger import set_trace # https://medium.com/@chrieke/jupyter-tips-and-tricks-994fdddb2057"
   ]
  },
  {
   "cell_type": "markdown",
   "metadata": {
    "toc-hr-collapsed": false
   },
   "source": [
    "## Simio Interface Test"
   ]
  },
  {
   "cell_type": "markdown",
   "metadata": {},
   "source": [
    "### test1"
   ]
  },
  {
   "cell_type": "markdown",
   "metadata": {},
   "source": [
    "### test2"
   ]
  },
  {
   "cell_type": "code",
   "execution_count": 1,
   "metadata": {
    "scrolled": false
   },
   "outputs": [
    {
     "ename": "NameError",
     "evalue": "name 'SimioPickDontMoveEnv' is not defined",
     "output_type": "error",
     "traceback": [
      "\u001b[1;31m---------------------------------------------------------------------------\u001b[0m",
      "\u001b[1;31mNameError\u001b[0m                                 Traceback (most recent call last)",
      "\u001b[1;32m<ipython-input-1-f09320551fb7>\u001b[0m in \u001b[0;36m<module>\u001b[1;34m\u001b[0m\n\u001b[1;32m----> 1\u001b[1;33m \u001b[0menv\u001b[0m \u001b[1;33m=\u001b[0m \u001b[0mSimioPickDontMoveEnv\u001b[0m\u001b[1;33m(\u001b[0m\u001b[0mlog_output\u001b[0m\u001b[1;33m=\u001b[0m\u001b[1;32mTrue\u001b[0m\u001b[1;33m,\u001b[0m \u001b[0mlog_end_episode_only\u001b[0m\u001b[1;33m=\u001b[0m\u001b[1;32mFalse\u001b[0m\u001b[1;33m)\u001b[0m\u001b[1;33m\u001b[0m\u001b[1;33m\u001b[0m\u001b[0m\n\u001b[0m\u001b[0;32m      2\u001b[0m \u001b[1;33m\u001b[0m\u001b[0m\n\u001b[0;32m      3\u001b[0m \u001b[0mprint\u001b[0m\u001b[1;33m(\u001b[0m\u001b[1;34m\"Num Pickers: \"\u001b[0m\u001b[1;33m,\u001b[0m \u001b[0menv\u001b[0m\u001b[1;33m.\u001b[0m\u001b[0mnum_pickers\u001b[0m\u001b[1;33m)\u001b[0m\u001b[1;33m\u001b[0m\u001b[1;33m\u001b[0m\u001b[0m\n\u001b[0;32m      4\u001b[0m \u001b[0mprint\u001b[0m\u001b[1;33m(\u001b[0m\u001b[1;34m\"Num AGVs: \"\u001b[0m\u001b[1;33m,\u001b[0m \u001b[0menv\u001b[0m\u001b[1;33m.\u001b[0m\u001b[0mnum_agvs\u001b[0m\u001b[1;33m)\u001b[0m\u001b[1;33m\u001b[0m\u001b[1;33m\u001b[0m\u001b[0m\n\u001b[0;32m      5\u001b[0m \u001b[0mprint\u001b[0m\u001b[1;33m(\u001b[0m\u001b[1;34m\"Num Warehouse Locations: \"\u001b[0m\u001b[1;33m,\u001b[0m \u001b[0menv\u001b[0m\u001b[1;33m.\u001b[0m\u001b[0mnum_locations\u001b[0m\u001b[1;33m)\u001b[0m\u001b[1;33m\u001b[0m\u001b[1;33m\u001b[0m\u001b[0m\n",
      "\u001b[1;31mNameError\u001b[0m: name 'SimioPickDontMoveEnv' is not defined"
     ]
    }
   ],
   "source": [
    "env = SimioPickDontMoveEnv(log_output=True, log_end_episode_only=False)\n",
    "\n",
    "print(\"Num Pickers: \", env.num_pickers)\n",
    "print(\"Num AGVs: \", env.num_agvs)\n",
    "print(\"Num Warehouse Locations: \", env.num_locations)\n",
    "\n",
    "print()\n",
    "print(\"Action Space:\")\n",
    "print(\"=============\")\n",
    "print(env.action_space)\n",
    "print()\n",
    "print(\"Observation Space:\")\n",
    "print(\"==================\")\n",
    "for statevar in env.observation_space:\n",
    "    print(statevar)"
   ]
  },
  {
   "cell_type": "code",
   "execution_count": 3,
   "metadata": {},
   "outputs": [
    {
     "name": "stdout",
     "output_type": "stream",
     "text": [
      "Picker Observation Space: 2\n",
      "Picker Action Space: 1\n",
      "AGV Observation Space: 10\n",
      "AGV Action Space: 1\n"
     ]
    }
   ],
   "source": [
    "print(\"Picker Observation Space:\", len(flatten_space_sample(env.picker_observation_space.sample())))\n",
    "print(\"Picker Action Space:\", len(flatten_space_sample(env.picker_action_space.sample())))\n",
    "print(\"AGV Observation Space:\", len(flatten_space_sample(env.agv_observation_space.sample())))\n",
    "print(\"AGV Action Space:\", len(flatten_space_sample(env.agv_action_space.sample())))"
   ]
  },
  {
   "cell_type": "code",
   "execution_count": 4,
   "metadata": {},
   "outputs": [],
   "source": [
    "#state = env.reset()\n",
    "#for i in range(100000):\n",
    "#    next_state, reward, done, _ = env.steprandom()\n",
    "#env.finalize()"
   ]
  },
  {
   "cell_type": "markdown",
   "metadata": {
    "toc-hr-collapsed": true
   },
   "source": [
    "## Estimators"
   ]
  },
  {
   "cell_type": "code",
   "execution_count": 5,
   "metadata": {},
   "outputs": [],
   "source": [
    "from FunctionApproximators import PolicyEstimator, ValueEstimator"
   ]
  },
  {
   "cell_type": "code",
   "execution_count": 6,
   "metadata": {},
   "outputs": [
    {
     "name": "stdout",
     "output_type": "stream",
     "text": [
      "WARNING:tensorflow:From C:\\Users\\krnjaia\\AppData\\Local\\Continuum\\anaconda3\\envs\\RL\\lib\\site-packages\\tensorflow\\python\\framework\\op_def_library.py:263: colocate_with (from tensorflow.python.framework.ops) is deprecated and will be removed in a future version.\n",
      "Instructions for updating:\n",
      "Colocations handled automatically by placer.\n",
      "\n",
      "WARNING: The TensorFlow contrib module will not be included in TensorFlow 2.0.\n",
      "For more information, please see:\n",
      "  * https://github.com/tensorflow/community/blob/master/rfcs/20180907-contrib-sunset.md\n",
      "  * https://github.com/tensorflow/addons\n",
      "If you depend on functionality not listed there, please file an issue.\n",
      "\n",
      "WARNING:tensorflow:From C:\\Users\\krnjaia\\Desktop\\RL\\PickDontMove\\FunctionApproximators.py:90: get_global_step (from tensorflow.contrib.framework.python.ops.variables) is deprecated and will be removed in a future version.\n",
      "Instructions for updating:\n",
      "Please switch to tf.train.get_global_step\n",
      "WARNING:tensorflow:From C:\\Users\\krnjaia\\AppData\\Local\\Continuum\\anaconda3\\envs\\RL\\lib\\site-packages\\tensorflow\\python\\ops\\array_grad.py:425: to_int32 (from tensorflow.python.ops.math_ops) is deprecated and will be removed in a future version.\n",
      "Instructions for updating:\n",
      "Use tf.cast instead.\n"
     ]
    }
   ],
   "source": [
    "tf.reset_default_graph()\n",
    "global_step = tf.Variable(0, name=\"global_step\", trainable=False)\n",
    "policy_estimator = PolicyEstimator(env)\n",
    "value_estimator = ValueEstimator(env)"
   ]
  },
  {
   "cell_type": "code",
   "execution_count": null,
   "metadata": {},
   "outputs": [],
   "source": []
  },
  {
   "cell_type": "code",
   "execution_count": 7,
   "metadata": {},
   "outputs": [
    {
     "data": {
      "text/plain": [
       "Reusing TensorBoard on port 6006 (pid 20912), started 1:07:12 ago. (Use '!kill 20912' to kill it.)"
      ]
     },
     "metadata": {},
     "output_type": "display_data"
    },
    {
     "data": {
      "text/html": [
       "\n",
       "        <iframe\n",
       "            width=\"100%\"\n",
       "            height=\"600\"\n",
       "            src=\"http://localhost:6006\"\n",
       "            frameborder=\"0\"\n",
       "            allowfullscreen\n",
       "        ></iframe>\n",
       "        "
      ],
      "text/plain": [
       "<IPython.lib.display.IFrame at 0x1b19b548e80>"
      ]
     },
     "metadata": {},
     "output_type": "display_data"
    }
   ],
   "source": [
    "%load_ext tensorboard.notebook\n",
    "#%reload_ext tensorboard.notebook\n",
    "logs_path = \"./tensorboard_pickdontmovetest18\"\n",
    "summary_writer = tf.summary.FileWriter(logdir=logs_path, graph=tf.get_default_graph()) # , graph=g\n",
    "%tensorboard --logdir tensorboard_pickdontmovetest18/"
   ]
  },
  {
   "cell_type": "code",
   "execution_count": 8,
   "metadata": {},
   "outputs": [],
   "source": [
    "\n",
    "with tf.Session() as sess:\n",
    "    sess.run(tf.global_variables_initializer())\n",
    "    sess.run(tf.local_variables_initializer())\n",
    "\n",
    "    sample = \n",
    "    value_next = value_estimator.predict(sample)\n",
    "    action_probs = policy_estimator.predict(sample)\n",
    "    "
   ]
  },
  {
   "cell_type": "code",
   "execution_count": 9,
   "metadata": {
    "scrolled": true
   },
   "outputs": [
    {
     "data": {
      "text/plain": [
       "0.0"
      ]
     },
     "execution_count": 9,
     "metadata": {},
     "output_type": "execute_result"
    }
   ],
   "source": [
    "value_next"
   ]
  },
  {
   "cell_type": "code",
   "execution_count": 10,
   "metadata": {},
   "outputs": [
    {
     "data": {
      "text/plain": [
       "[array([0.07692308, 0.07692308, 0.07692308, 0.07692308, 0.07692308,\n",
       "        0.07692308, 0.07692308, 0.07692308, 0.07692308, 0.07692308,\n",
       "        0.07692308, 0.07692308, 0.07692308], dtype=float32),\n",
       " array([0.08333334, 0.08333334, 0.08333334, 0.08333334, 0.08333334,\n",
       "        0.08333334, 0.08333334, 0.08333334, 0.08333334, 0.08333334,\n",
       "        0.08333334, 0.08333334], dtype=float32),\n",
       " array([0.08333334, 0.08333334, 0.08333334, 0.08333334, 0.08333334,\n",
       "        0.08333334, 0.08333334, 0.08333334, 0.08333334, 0.08333334,\n",
       "        0.08333334, 0.08333334], dtype=float32)]"
      ]
     },
     "execution_count": 10,
     "metadata": {},
     "output_type": "execute_result"
    }
   ],
   "source": [
    "action_probs"
   ]
  },
  {
   "cell_type": "code",
   "execution_count": 17,
   "metadata": {},
   "outputs": [
    {
     "name": "stdout",
     "output_type": "stream",
     "text": [
      "[4, 4, 9]\n",
      "[4 4 9]\n",
      "[9 6 3]\n"
     ]
    }
   ],
   "source": [
    "chosen_actions = []\n",
    "for prob in action_probs:\n",
    "    action = np.random.choice(np.arange(len(prob)), p=prob)\n",
    "    chosen_actions.append(action)\n",
    "\n",
    "ca = np.array([np.random.choice(np.arange(len(prob)), p=prob) for prob in action_probs])\n",
    "print(chosen_actions)\n",
    "print(np.array(chosen_actions))\n",
    "print(ca)"
   ]
  },
  {
   "cell_type": "code",
   "execution_count": 12,
   "metadata": {
    "scrolled": true
   },
   "outputs": [
    {
     "data": {
      "text/plain": [
       "array([[ 1,  4,  1,  3, 64, 69, 84, 53, 60, 64,  6, 19,  2,  8, 68, 92,\n",
       "        84, 14, 13, 38, 57, 11]], dtype=int64)"
      ]
     },
     "execution_count": 12,
     "metadata": {},
     "output_type": "execute_result"
    }
   ],
   "source": [
    "sample"
   ]
  },
  {
   "cell_type": "code",
   "execution_count": 22,
   "metadata": {},
   "outputs": [
    {
     "name": "stdout",
     "output_type": "stream",
     "text": [
      "0.010000001\n",
      "[[<tf.Operation 'policy_estimator/Adam' type=AssignAdd>, <tf.Tensor 'policy_estimator/mul:0' shape=<unknown> dtype=float32>], [<tf.Operation 'policy_estimator/Adam_1' type=AssignAdd>, <tf.Tensor 'policy_estimator/mul_1:0' shape=<unknown> dtype=float32>], [<tf.Operation 'policy_estimator/Adam_2' type=AssignAdd>, <tf.Tensor 'policy_estimator/mul_2:0' shape=<unknown> dtype=float32>]]\n",
      "[0.25649494, 0.24849068, 0.24849068]\n",
      "[4, 4, 9]\n",
      "[4, 4, 9]\n"
     ]
    }
   ],
   "source": [
    "with tf.Session() as sess:\n",
    "    sess.run(tf.global_variables_initializer())\n",
    "    sess.run(tf.local_variables_initializer())\n",
    "    # sess.run(tf.initialize_all_variables())\n",
    "    \n",
    "    reward = 0.1\n",
    "    discount_factor = 1.0\n",
    "\n",
    "    td_target = reward + discount_factor * value_next\n",
    "    td_error = td_target - value_next \n",
    "\n",
    "    # Update the value estimator\n",
    "    value_loss = value_estimator.update(sample, td_target)\n",
    "    print(value_loss)\n",
    "    \n",
    "    # Update the policy estimator\n",
    "    # using the td error as our advantage estimate\n",
    "    policy_loss = policy_estimator.update(sample, td_error, chosen_actions)\n",
    "    print(policy_loss)\n",
    "    print(chosen_actions)\n",
    "    print([int(a) for a in chosen_actions])"
   ]
  },
  {
   "cell_type": "code",
   "execution_count": 37,
   "metadata": {},
   "outputs": [
    {
     "data": {
      "text/plain": [
       "True"
      ]
     },
     "execution_count": 37,
     "metadata": {},
     "output_type": "execute_result"
    }
   ],
   "source": [
    "len(chosen_actions) == len(env.action_space.nvec)"
   ]
  },
  {
   "cell_type": "code",
   "execution_count": null,
   "metadata": {},
   "outputs": [
    {
     "name": "stdout",
     "output_type": "stream",
     "text": [
      "> \u001b[1;32m<ipython-input-38-f4c406caa424>\u001b[0m(1)\u001b[0;36m<module>\u001b[1;34m()\u001b[0m\n",
      "\u001b[1;32m----> 1 \u001b[1;33m\u001b[0menv\u001b[0m\u001b[1;33m.\u001b[0m\u001b[0maction_space\u001b[0m\u001b[1;33m[\u001b[0m\u001b[1;36m0\u001b[0m\u001b[1;33m]\u001b[0m\u001b[1;33m\u001b[0m\u001b[1;33m\u001b[0m\u001b[0m\n",
      "\u001b[0m\n"
     ]
    }
   ],
   "source": [
    "%debug"
   ]
  },
  {
   "cell_type": "code",
   "execution_count": null,
   "metadata": {},
   "outputs": [],
   "source": []
  }
 ],
 "metadata": {
  "kernelspec": {
   "display_name": "Python 3",
   "language": "python",
   "name": "python3"
  },
  "language_info": {
   "codemirror_mode": {
    "name": "ipython",
    "version": 3
   },
   "file_extension": ".py",
   "mimetype": "text/x-python",
   "name": "python",
   "nbconvert_exporter": "python",
   "pygments_lexer": "ipython3",
   "version": "3.6.8"
  }
 },
 "nbformat": 4,
 "nbformat_minor": 2
}
