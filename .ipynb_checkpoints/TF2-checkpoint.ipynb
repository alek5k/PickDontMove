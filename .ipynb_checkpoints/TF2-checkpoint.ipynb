{
 "cells": [
  {
   "cell_type": "code",
   "execution_count": 1,
   "metadata": {},
   "outputs": [],
   "source": [
    "from SimioEnv_v2 import SimioPickDontMoveEnv\n",
    "from gym_helpers import flatten_space_sample\n",
    "env = SimioPickDontMoveEnv(\n",
    "    num_locations=8, \n",
    "    num_pickers=1, \n",
    "    num_agvs=1,\n",
    "    log_output=False, \n",
    "    log_end_episode_only=False\n",
    "    )\n",
    "input_size = len(flatten_space_sample(env.observation_space.sample()))\n",
    "input_shape = (input_size,)"
   ]
  },
  {
   "cell_type": "code",
   "execution_count": 10,
   "metadata": {},
   "outputs": [],
   "source": [
    "import tensorflow as tf\n",
    "import numpy as np\n",
    "from FunctionApproximators_TF2 import ValueEstimator, PolicyEstimator"
   ]
  },
  {
   "cell_type": "code",
   "execution_count": 11,
   "metadata": {},
   "outputs": [],
   "source": [
    "tf.keras.backend.clear_session()  # For easy reset of notebook state."
   ]
  },
  {
   "cell_type": "code",
   "execution_count": 12,
   "metadata": {},
   "outputs": [
    {
     "name": "stdout",
     "output_type": "stream",
     "text": [
      "Model: \"PolicyEstimator\"\n",
      "__________________________________________________________________________________________________\n",
      "Layer (type)                    Output Shape         Param #     Connected to                     \n",
      "==================================================================================================\n",
      "input_1 (InputLayer)            [(None, 10)]         0                                            \n",
      "__________________________________________________________________________________________________\n",
      "dense (Dense)                   (None, 30)           330         input_1[0][0]                    \n",
      "__________________________________________________________________________________________________\n",
      "dense_1 (Dense)                 (None, 2)            62          dense[0][0]                      \n",
      "__________________________________________________________________________________________________\n",
      "dense_2 (Dense)                 (None, 8)            248         dense[0][0]                      \n",
      "__________________________________________________________________________________________________\n",
      "dense_3 (Dense)                 (None, 8)            248         dense[0][0]                      \n",
      "==================================================================================================\n",
      "Total params: 888\n",
      "Trainable params: 888\n",
      "Non-trainable params: 0\n",
      "__________________________________________________________________________________________________\n"
     ]
    }
   ],
   "source": [
    "pe = PolicyEstimator(input_shape, env.picker_action_space.nvec, env.agv_action_space.nvec)"
   ]
  },
  {
   "cell_type": "code",
   "execution_count": 13,
   "metadata": {},
   "outputs": [
    {
     "name": "stdout",
     "output_type": "stream",
     "text": [
      "Model: \"ValueEstimator\"\n",
      "_________________________________________________________________\n",
      "Layer (type)                 Output Shape              Param #   \n",
      "=================================================================\n",
      "input_2 (InputLayer)         [(None, 10)]              0         \n",
      "_________________________________________________________________\n",
      "dense_4 (Dense)              (None, 30)                330       \n",
      "_________________________________________________________________\n",
      "dense_5 (Dense)              (None, 1)                 31        \n",
      "=================================================================\n",
      "Total params: 361\n",
      "Trainable params: 361\n",
      "Non-trainable params: 0\n",
      "_________________________________________________________________\n"
     ]
    }
   ],
   "source": [
    "ve = ValueEstimator(input_shape)"
   ]
  },
  {
   "cell_type": "markdown",
   "metadata": {},
   "source": [
    "### Generate Observation"
   ]
  },
  {
   "cell_type": "code",
   "execution_count": 14,
   "metadata": {},
   "outputs": [],
   "source": [
    "# Reshapes a list of integers into a format tensorflow can understand\n",
    "def reshape_state(state):\n",
    "    return np.array(state).reshape(-1, 1).T"
   ]
  },
  {
   "cell_type": "code",
   "execution_count": 15,
   "metadata": {},
   "outputs": [
    {
     "name": "stdout",
     "output_type": "stream",
     "text": [
      "(3, 10, array([35, 61, 29, 44, 94, 53,  4, 61], dtype=int64))\n",
      "[[ 3 10 35 61 29 44 94 53  4 61]]\n",
      "(1, 10)\n"
     ]
    }
   ],
   "source": [
    "# Generate an observation in the environment\n",
    "observation = env.observation_space.sample()\n",
    "flat_observation = flatten_space_sample(observation)\n",
    "reshaped_flat_observation = reshape_state(flat_observation)\n",
    "\n",
    "print(observation)\n",
    "print(reshaped_flat_observation)\n",
    "print(reshaped_flat_observation.shape)"
   ]
  },
  {
   "cell_type": "markdown",
   "metadata": {},
   "source": [
    "## Value Estimator Predict & Update"
   ]
  },
  {
   "cell_type": "code",
   "execution_count": 16,
   "metadata": {},
   "outputs": [
    {
     "name": "stdout",
     "output_type": "stream",
     "text": [
      "[[21.188808]]\n"
     ]
    }
   ],
   "source": [
    "# VALUE ESTIMATOR PREDICT\n",
    "output = ve.predict(reshaped_flat_observation)\n",
    "print(output)"
   ]
  },
  {
   "cell_type": "code",
   "execution_count": 24,
   "metadata": {},
   "outputs": [
    {
     "name": "stdout",
     "output_type": "stream",
     "text": [
      "22.647835\n"
     ]
    }
   ],
   "source": [
    "# VALUE ESTIMATOR UPDATE\n",
    "td_target = np.array([0.3])\n",
    "loss = ve.update(reshaped_flat_observation, td_target)\n",
    "#print(history.history)\n",
    "print(loss)"
   ]
  },
  {
   "cell_type": "markdown",
   "metadata": {},
   "source": [
    "## Policy Estimator Predict & Update"
   ]
  },
  {
   "cell_type": "code",
   "execution_count": 18,
   "metadata": {},
   "outputs": [
    {
     "name": "stdout",
     "output_type": "stream",
     "text": [
      "output shapes: [(1, 2), (1, 8), (1, 8)]\n",
      "[0, 1, 3]\n"
     ]
    }
   ],
   "source": [
    "# POLICY ESTIMATOR PREDICT\n",
    "action_probabilities = pe.predict(reshaped_flat_observation)\n",
    "\n",
    "print(\"output shapes:\", [x.shape for x in action_probabilities])\n",
    "\n",
    "action_probabilities_flattened = [x.flatten() for x in action_probabilities]\n",
    "chosen_actions = [np.random.choice(np.arange(len(prob)), p=prob) for prob in action_probabilities_flattened]\n",
    "\n",
    "print(chosen_actions)"
   ]
  },
  {
   "cell_type": "code",
   "execution_count": 26,
   "metadata": {},
   "outputs": [
    {
     "name": "stdout",
     "output_type": "stream",
     "text": [
      "[0.0, 0.0, 0.0, 0.0]\n"
     ]
    }
   ],
   "source": [
    "# POLICY ESTIMATOR UPDATE\n",
    "td_error = np.array([.01])\n",
    "losses = pe.update(reshaped_flat_observation, td_error, actions=chosen_actions)\n",
    "print(losses)"
   ]
  },
  {
   "cell_type": "code",
   "execution_count": null,
   "metadata": {},
   "outputs": [],
   "source": []
  },
  {
   "cell_type": "code",
   "execution_count": null,
   "metadata": {},
   "outputs": [],
   "source": []
  },
  {
   "cell_type": "code",
   "execution_count": null,
   "metadata": {},
   "outputs": [],
   "source": []
  },
  {
   "cell_type": "code",
   "execution_count": null,
   "metadata": {},
   "outputs": [],
   "source": []
  }
 ],
 "metadata": {
  "kernelspec": {
   "display_name": "Python 3",
   "language": "python",
   "name": "python3"
  },
  "language_info": {
   "codemirror_mode": {
    "name": "ipython",
    "version": 3
   },
   "file_extension": ".py",
   "mimetype": "text/x-python",
   "name": "python",
   "nbconvert_exporter": "python",
   "pygments_lexer": "ipython3",
   "version": "3.6.9"
  }
 },
 "nbformat": 4,
 "nbformat_minor": 4
}
