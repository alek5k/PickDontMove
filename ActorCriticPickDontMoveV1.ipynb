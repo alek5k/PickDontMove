{
 "cells": [
  {
   "cell_type": "code",
   "execution_count": 1,
   "metadata": {
    "Collapsed": "false"
   },
   "outputs": [],
   "source": [
    "%matplotlib inline\n",
    "\n",
    "import gym\n",
    "import itertools\n",
    "import matplotlib\n",
    "import numpy as np\n",
    "import sys\n",
    "import tensorflow as tf\n",
    "import collections\n",
    "import datetime\n",
    "import os\n",
    "import shutil\n",
    "\n",
    "## V1: Using the full action space\n",
    "## V2: Simplified model\n",
    "#from SimioEnv_v2 import SimioPickDontMoveEnv\n",
    "from SimioEnv_v2p1 import SimioPickDontMoveEnv\n",
    "from FunctionApproximators_v2p2 import PolicyEstimator, ValueEstimator\n",
    "\n",
    "from IPython.core.debugger import set_trace\n",
    "from gym_helpers import flatten_space_sample\n",
    "\n",
    "if \"../\" not in sys.path:\n",
    "  sys.path.append(\"../\") \n",
    "#from lib.envs.cliff_walking import CliffWalkingEnv\n",
    "from lib import plotting\n",
    "\n",
    "matplotlib.style.use('ggplot')"
   ]
  },
  {
   "cell_type": "code",
   "execution_count": 2,
   "metadata": {
    "Collapsed": "false",
    "scrolled": true
   },
   "outputs": [
    {
     "name": "stdout",
     "output_type": "stream",
     "text": [
      "Num Pickers:  1\n",
      "Num AGVs:  2\n",
      "Num Warehouse Locations:  8\n",
      "\n",
      "Action Space:\n",
      "=============\n",
      "MultiDiscrete([3 8 8])\n",
      "\n",
      "Observation Space:\n",
      "==================\n",
      "MultiDiscrete([11 11 11 20 20 20 20 20 20 20 20 20 20 20 20 20 20 20 20])\n"
     ]
    }
   ],
   "source": [
    "# env = gym.make('FrozenLake8x8-v0') # FrozenLake8x8-v0 FrozenLake-v0\n",
    "# env = SimioFrozenLakeEnv(num_states=64, num_actions=4, log_output=False)\n",
    "env = SimioPickDontMoveEnv(\n",
    "    num_locations=8, \n",
    "    num_pickers=1, \n",
    "    num_agvs=2,\n",
    "    log_output=False, \n",
    "    log_end_episode_only=False\n",
    "    )\n",
    "\n",
    "print(\"Num Pickers: \", env.num_pickers)\n",
    "print(\"Num AGVs: \", env.num_agvs)\n",
    "print(\"Num Warehouse Locations: \", env.num_locations)\n",
    "\n",
    "print()\n",
    "print(\"Action Space:\")\n",
    "print(\"=============\")\n",
    "print(env.action_space)\n",
    "print()\n",
    "print(\"Observation Space:\")\n",
    "print(\"==================\")\n",
    "print(env.observation_space)"
   ]
  },
  {
   "cell_type": "code",
   "execution_count": 3,
   "metadata": {
    "Collapsed": "false"
   },
   "outputs": [],
   "source": [
    "# example = {\n",
    "#     'Status':  0.0 , \n",
    "#     'EpisodeNum':  1.0 , \n",
    "#     'Reward':  2.0 , \n",
    "#     'States':  {\n",
    "#         'PickerCurrentAction': 3.0, \n",
    "#         'PickerLocation': 4.0, \n",
    "#         'AGV1CurrentAction': 5.0, \n",
    "#         'AGV1Location': 6.0, \n",
    "#         'AGV1RemainingOrderQuantities': [7.0, 8.0, 9.0, 10.0, 11.0, 12.0, 13.0, 14.0], \n",
    "#         'AGV2CurrentAction': 15.0, \n",
    "#         'AGV2Location': 16.0, \n",
    "#         'AGV2RemainingOrderQuantities': [17.0, 18.0, 19.0, 20.0, 21.0, 22.0, 23.0, 24.0], \n",
    "#         'Order1Quantities': [], \n",
    "#         'Order2Quantities': [], \n",
    "#         'Order3Quantities': [], \n",
    "#         'Order4Quantities': [], \n",
    "#         'Order5Quantities': []\n",
    "#     }\n",
    "# }\n",
    "# example_state = example['States']\n",
    "# \n",
    "# env.flatten_state(example_state)"
   ]
  },
  {
   "cell_type": "code",
   "execution_count": 4,
   "metadata": {
    "Collapsed": "false"
   },
   "outputs": [],
   "source": [
    "# flatten_space_sample(env.observation_space.sample())\n",
    "\n",
    "# def flatten_space_sample2(sample):\n",
    "#     return np.array(flatten_space_sample(sample)).reshape(-1, 1).T"
   ]
  },
  {
   "cell_type": "code",
   "execution_count": 5,
   "metadata": {
    "Collapsed": "false"
   },
   "outputs": [],
   "source": [
    "# Reshapes a list of integers into a format tensorflow can understand\n",
    "def reshape_state(state):\n",
    "    return np.array(state).reshape(-1, 1).T"
   ]
  },
  {
   "cell_type": "code",
   "execution_count": 6,
   "metadata": {
    "Collapsed": "false"
   },
   "outputs": [],
   "source": [
    "def reinforce(env, estimator_policy, estimator_value, num_episodes, discount_factor=1.0):\n",
    "    \"\"\"\n",
    "    REINFORCE (Monte Carlo Policy Gradient) Algorithm. Optimizes the policy\n",
    "    function approximator using policy gradient.\n",
    "    \n",
    "    Args:\n",
    "        env: OpenAI environment.\n",
    "        estimator_policy: Policy Function to be optimized \n",
    "        estimator_value: Value function approximator, used as a baseline\n",
    "        num_episodes: Number of episodes to run for\n",
    "        discount_factor: Time-discount factor\n",
    "    \n",
    "    Returns:\n",
    "        An EpisodeStats object with two numpy arrays for episode_lengths and episode_rewards.\n",
    "    \"\"\"\n",
    "\n",
    "    # Keeps track of useful statistics\n",
    "    stats = plotting.EpisodeStats(\n",
    "        episode_lengths=np.zeros(num_episodes),\n",
    "        episode_rewards=np.zeros(num_episodes))    \n",
    "    \n",
    "    Transition = collections.namedtuple(\"Transition\", [\"state\", \"action\", \"reward\", \"next_state\", \"done\"])\n",
    "    \n",
    "    for i_episode in range(num_episodes):\n",
    "        # Reset the environment and pick the first action\n",
    "        state = env.reset()\n",
    "        state = reshape_state(state)\n",
    "        \n",
    "        \n",
    "        watchdog_start = datetime.datetime.now()\n",
    "        \n",
    "        \n",
    "        episode = []\n",
    "        \n",
    "        # One step in the environment\n",
    "        for t in itertools.count():\n",
    "            \n",
    "            # Take a step\n",
    "            action_probs = estimator_policy.predict(state)\n",
    "            # action = np.random.choice(np.arange(len(action_probs)), p=action_probs)\n",
    "            action = [np.random.choice(np.arange(len(prob)), p=prob) for prob in action_probs] # action for each picker, agv\n",
    "                \n",
    "            next_state, reward, done, _ = env.step(action)\n",
    "            next_state = reshape_state(next_state)\n",
    "            \n",
    "            \n",
    "            # Keep track of the transition\n",
    "            episode.append(Transition(state=state, action=action, reward=reward, next_state=next_state, done=done))\n",
    "            stats.episode_rewards[i_episode] += reward\n",
    "            stats.episode_lengths[i_episode] = t\n",
    "            \n",
    "            # Print out which step we're on, useful for debugging.\n",
    "            # rint(\"\\rStep {} @ Episode {}/{} ({})\".format(\n",
    "            #        t, i_episode + 1, num_episodes, stats.episode_rewards[i_episode - 1]), end=\"\")\n",
    "            # sys.stdout.flush()\n",
    "            \n",
    "            print(\"\\r\\t\\t\\t\\t\\t\\t\\t\\t\\t\\t\\t\\t\\t\\t\\t\\t\\t\\t\\t\\t\\t\\t\\t\\t\\t\\t\\t\\t\", end=\"\")\n",
    "            print(\"\\r[step {}][ep {}/{}] cumulative_reward={:.2f}\".format(\n",
    "                 t,\n",
    "                 i_episode+1,\n",
    "                 num_episodes,\n",
    "                 stats.episode_rewards[i_episode]), end=\"\")\n",
    "            \n",
    "            \n",
    "            if done:\n",
    "                break\n",
    "                \n",
    "            state = next_state\n",
    "            \n",
    "            watchdog_end = datetime.datetime.now()\n",
    "            if ((watchdog_end-watchdog_start).total_seconds() > 10):\n",
    "                env.finalize()\n",
    "                return stats\n",
    "            watchdog_start = watchdog_end\n",
    "            \n",
    "            if os.path.exists('terminate.txt'):\n",
    "                return stats\n",
    "    \n",
    "        # Go through the episode and make policy updates\n",
    "        for t, transition in enumerate(episode):\n",
    "            # The return after this timestep\n",
    "            total_return = sum(discount_factor**i * t.reward for i, t in enumerate(episode[t:]))\n",
    "            # Calculate baseline/advantage\n",
    "            baseline_value = estimator_value.predict(transition.state)            \n",
    "            advantage = total_return - baseline_value\n",
    "            # Update our value estimator\n",
    "            estimator_value.update(transition.state, total_return)\n",
    "            # Update our policy estimator\n",
    "            estimator_policy.update(transition.state, advantage, transition.action)\n",
    "    \n",
    "        env.finalize()\n",
    "        \n",
    "    return stats"
   ]
  },
  {
   "cell_type": "code",
   "execution_count": 7,
   "metadata": {
    "Collapsed": "false"
   },
   "outputs": [],
   "source": [
    "def actor_critic(env, estimator_policy, estimator_value, num_episodes, discount_factor=1.0):\n",
    "    \"\"\"\n",
    "    Actor Critic Algorithm. Optimizes the policy function approximator using policy gradient.\n",
    "    \n",
    "    Args:\n",
    "        env: OpenAI environment.\n",
    "        estimator_policy: Policy Function to be optimized \n",
    "        estimator_value: Value function approximator, used as a critic\n",
    "        num_episodes: Number of episodes to run for\n",
    "        discount_factor: Time-discount factor\n",
    "    \n",
    "    Returns:\n",
    "        An EpisodeStats object with two numpy arrays for episode_lengths and episode_rewards.\n",
    "    \"\"\"\n",
    "\n",
    "    stats = plotting.EpisodeStats(episode_lengths=np.zeros(num_episodes), episode_rewards=np.zeros(num_episodes)) # Keeps track of useful statistics\n",
    "    \n",
    "    Transition = collections.namedtuple(\"Transition\", [\"state\", \"action\", \"reward\", \"next_state\", \"done\"])\n",
    "    \n",
    "    for i_episode in range(num_episodes):\n",
    "        # Reset the environment and pick the fisrst action\n",
    "        state = env.reset()\n",
    "        state = reshape_state(state)\n",
    "        \n",
    "        episode = []\n",
    "        \n",
    "        \n",
    "        watchdog_start = datetime.datetime.now()\n",
    "        \n",
    "        \n",
    "        # One step in the environment\n",
    "        for t in itertools.count():\n",
    "            \n",
    "            action_probs = estimator_policy.predict(state)\n",
    "            # action = np.random.choice(np.arange(len(action_probs)), p=action_probs)\n",
    "            \n",
    "            \n",
    "            #TF1\n",
    "            actions = [np.random.choice(np.arange(len(prob)), p=prob) for prob in action_probs] # action for each picker, agv\n",
    "            \n",
    "            \n",
    "            #TF2\n",
    "            # action_probs_flattened = [x.flatten() for x in action_probs]\n",
    "            # actions = [np.random.choice(np.arange(len(prob)), p=prob) for prob in action_probs_flattened]\n",
    "            \n",
    "            next_state, reward, done, _ = env.step(actions) \n",
    "            next_state = reshape_state(next_state)\n",
    "            \n",
    "            \n",
    "            # Keep track of the transition, update statistics\n",
    "            episode.append(Transition(state=state, action=actions, reward=reward, next_state=next_state, done=done))\n",
    "            stats.episode_rewards[i_episode] += reward\n",
    "            stats.episode_lengths[i_episode] = t\n",
    "            \n",
    "            # Calculate TD Target\n",
    "            value_next = estimator_value.predict(next_state)\n",
    "            td_target = reward + discount_factor * value_next\n",
    "            td_error = td_target - estimator_value.predict(state)\n",
    "            \n",
    "            # TF1\n",
    "            # # Update the value estimator\n",
    "            value_loss = estimator_value.update(state, td_target)\n",
    "            # # Update the policy estimator\n",
    "            # # using the td error as our advantage estimate\n",
    "            policy_loss = estimator_policy.update(state, td_error, actions)\n",
    "            \n",
    "            \n",
    "            # print(\"\\r[step {}][ep {}/{}] Vn={} TD={} TDE={} r={} Vloss={} Ploss={}\".format(\n",
    "            #      t,\n",
    "            #      i_episode+1,\n",
    "            #      num_episodes,\n",
    "            #      \n",
    "            #      value_next,\n",
    "            #      td_target,\n",
    "            #      td_error,\n",
    "            #      reward,\n",
    "            #      value_loss,\n",
    "            #      policy_loss), end=\"\")\n",
    "            # print(\"\\r\\t\\t\\t\\t\\t\\t\\t\\t\\t\\t\\t\\t\\t\\t\\t\\t\\t\\t\\t\\t\\t\\t\\t\\t\\t\\t\\t\\t\", end=\"\")\n",
    "            print(\"\\r[step {}][ep {}/{}] cumulative_reward={:.2f} Vloss={} Ploss={}\\t\\t\\t\".format(\n",
    "                 t,\n",
    "                 i_episode+1,\n",
    "                 num_episodes,\n",
    "                 stats.episode_rewards[i_episode],\n",
    "                 value_loss,\n",
    "                 policy_loss), end=\"\")\n",
    "            \n",
    "            # probs_string = [\"{:.2f}\".format(x) for x in action_probs[1]]\n",
    "            # print(\"\\r[step {}][ep {}/{}] action_probs={}\".format(\n",
    "            #     t, \n",
    "            #     i_episode+1, \n",
    "            #     num_episodes, \n",
    "            #     probs_string), end=\"\")\n",
    "            \n",
    "            # if td_error > 0.001 or td_error < -0.001:\n",
    "            #     variables = tf.trainable_variables()\n",
    "            #     variables_vals = sess.run(variables)\n",
    "            #     varlist = []\n",
    "            #     for var, val in zip(variables, variables_vals):\n",
    "            #         print(\"var: {}, value: {}\".format(var.name, val))\n",
    "            \n",
    "            # Print out which step we're on, useful for debugging.\n",
    "            # print(\"\\rStep {} @ Episode {}/{} ({})\\t\\t\\t\\t\\t\".format(t, i_episode + 1, num_episodes, stats.episode_rewards[i_episode - 1]), end=\"\")\n",
    "            # if td_target > 0.0001 or td_target < -0.0001:\n",
    "            #     print(\"============================\")\n",
    "            #     print(\"Step {} @ Episode {}/{} ({})\".format(t, i_episode + 1, num_episodes, stats.episode_rewards[i_episode - 1]))\n",
    "            #     print(\"td target\", td_target, \"td error\", td_error)\n",
    "            #     print(\"value loss\", value_loss, \"policy loss\", policy_loss)\n",
    "            #     print(\"============================\")\n",
    "            # print(\"\\rStep {} @ Episode {}/{} ({})\\t\\t\\t\\t\\t\".format(t, i_episode + 1, num_episodes, stats.episode_rewards[i_episode - 1]), end=\"\")\n",
    "            if done:\n",
    "                break\n",
    "                \n",
    "            state = next_state\n",
    "            \n",
    "            watchdog_end = datetime.datetime.now()\n",
    "            if ((watchdog_end-watchdog_start).total_seconds() > 10):\n",
    "                return stats\n",
    "            watchdog_start = watchdog_end\n",
    "            \n",
    "        env.finalize()\n",
    "        \n",
    "    return stats"
   ]
  },
  {
   "cell_type": "code",
   "execution_count": 8,
   "metadata": {},
   "outputs": [],
   "source": [
    "NUM_EPISODES = 300000\n",
    "DISCOUNT_FACTOR = 1.0\n",
    "LEARNING_RATE = 0.00001\n",
    "ALGORITHM = \"reinforce\" # actor_critic or reinforce"
   ]
  },
  {
   "cell_type": "code",
   "execution_count": 9,
   "metadata": {
    "Collapsed": "false"
   },
   "outputs": [
    {
     "name": "stdout",
     "output_type": "stream",
     "text": [
      "WARNING:tensorflow:From C:\\Users\\krnjaia\\AppData\\Local\\Continuum\\anaconda3\\envs\\RL\\lib\\site-packages\\tensorflow\\python\\framework\\op_def_library.py:263: colocate_with (from tensorflow.python.framework.ops) is deprecated and will be removed in a future version.\n",
      "Instructions for updating:\n",
      "Colocations handled automatically by placer.\n",
      "\n",
      "WARNING: The TensorFlow contrib module will not be included in TensorFlow 2.0.\n",
      "For more information, please see:\n",
      "  * https://github.com/tensorflow/community/blob/master/rfcs/20180907-contrib-sunset.md\n",
      "  * https://github.com/tensorflow/addons\n",
      "If you depend on functionality not listed there, please file an issue.\n",
      "\n",
      "WARNING:tensorflow:From C:\\Users\\krnjaia\\Desktop\\RL\\PickDontMove\\PickDontMove\\FunctionApproximators_v2p2.py:84: get_global_step (from tensorflow.contrib.framework.python.ops.variables) is deprecated and will be removed in a future version.\n",
      "Instructions for updating:\n",
      "Please switch to tf.train.get_global_step\n",
      "WARNING:tensorflow:From C:\\Users\\krnjaia\\AppData\\Local\\Continuum\\anaconda3\\envs\\RL\\lib\\site-packages\\tensorflow\\python\\ops\\array_grad.py:425: to_int32 (from tensorflow.python.ops.math_ops) is deprecated and will be removed in a future version.\n",
      "Instructions for updating:\n",
      "Use tf.cast instead.\n"
     ]
    }
   ],
   "source": [
    "## TF1:\n",
    "tf.reset_default_graph()\n",
    "global_step = tf.Variable(0, name=\"global_step\", trainable=False)\n",
    "policy_estimator = PolicyEstimator(env, learning_rate=LEARNING_RATE) #0.00001\n",
    "value_estimator = ValueEstimator(env, learning_rate=LEARNING_RATE) #0.00001"
   ]
  },
  {
   "cell_type": "code",
   "execution_count": 10,
   "metadata": {
    "Collapsed": "false"
   },
   "outputs": [],
   "source": [
    "# #%load_ext tensorboard.notebook\n",
    "# %reload_ext tensorboard.notebook\n",
    "# logs_path = \"./tensorboard_actorcriticsimio111\"\n",
    "# summary_writer = tf.summary.FileWriter(logdir=logs_path, graph=tf.get_default_graph()) # , graph=g\n",
    "# %tensorboard --logdir tensorboard_actorcriticsimio111/"
   ]
  },
  {
   "cell_type": "code",
   "execution_count": 11,
   "metadata": {
    "Collapsed": "false"
   },
   "outputs": [
    {
     "name": "stdout",
     "output_type": "stream",
     "text": [
      "#######################################\n",
      "started run: 2020-02-15 12:44:06.383509\n",
      "#######################################\n",
      "\n",
      "[step 405][ep 300000/300000] cumulative_reward=-10.09"
     ]
    }
   ],
   "source": [
    "\n",
    "\n",
    "## TF1\n",
    "#policytable = []\n",
    "#valuetable = []\n",
    "start_training = datetime.datetime.now()\n",
    "print(\"#######################################\")\n",
    "print(\"started run:\", start_training)\n",
    "print(\"#######################################\")\n",
    "print()\n",
    "with tf.Session() as sess:\n",
    "    # sess.run(tf.initialize_all_variables())\n",
    "    sess.run(tf.global_variables_initializer())\n",
    "    # Note, due to randomness in the policy the number of episodes you need to learn a good\n",
    "    # policy may vary. ~300 seemed to work well for me.\n",
    "    \n",
    "    if ALGORITHM == \"actor_critic\":\n",
    "        stats = actor_critic(env, policy_estimator, value_estimator, num_episodes=NUM_EPISODES, discount_factor=DISCOUNT_FACTOR)\n",
    "    elif ALGORITHM == \"reinforce\":\n",
    "        stats = reinforce(env, policy_estimator, value_estimator, num_episodes=NUM_EPISODES, discount_factor=DISCOUNT_FACTOR)\n",
    "\n",
    "    # Output the final policy and value tables\n",
    "    #for i in range(env.observation_space.n):\n",
    "    #    policytable.append(policy_estimator.predict(i))\n",
    "    #    valuetable.append(value_estimator.predict(i))\n",
    "    variables = tf.trainable_variables()\n",
    "    variables_vals = sess.run(variables)\n",
    "    # print(variables) #some infos about variables...\n",
    "    varlist = []\n",
    "    for var, val in zip(variables, variables_vals):\n",
    "        varlist.append({var.name: val})\n",
    "        # print(\"var: {}, value: {}\".format(var.name, val)) #...or sort it in a list....\n",
    "    # print varlist\n",
    "end_training = datetime.datetime.now()\n"
   ]
  },
  {
   "cell_type": "code",
   "execution_count": 17,
   "metadata": {},
   "outputs": [
    {
     "name": "stdout",
     "output_type": "stream",
     "text": [
      "######################################\n",
      "algorithm: reinforce\n",
      "num eps: 300000\n",
      "discount: 1.0\n",
      "learning rate: 1e-05\n",
      "started run: 2020-02-15 12:44:06.383509\n",
      "ended run: 2020-02-18 07:08:02.023577\n",
      "duration: 239035.640068\n",
      "max reward: 4.845499998773448 @ episode: 147008\n",
      "min reward: -15.792650008748751 @ episode: 291284\n",
      "######################################\n"
     ]
    },
    {
     "data": {
      "image/png": "[encoded data removed]",
      "text/plain": [
       "<Figure size 720x360 with 1 Axes>"
      ]
     },
     "metadata": {
      "needs_background": "light"
     },
     "output_type": "display_data"
    },
    {
     "data": {
      "image/png": "[encoded data removed]",
      "text/plain": [
       "<Figure size 720x360 with 1 Axes>"
      ]
     },
     "metadata": {
      "needs_background": "light"
     },
     "output_type": "display_data"
    },
    {
     "data": {
      "image/png": "[encoded data removed]",
      "text/plain": [
       "<Figure size 720x360 with 1 Axes>"
      ]
     },
     "metadata": {
      "needs_background": "light"
     },
     "output_type": "display_data"
    }
   ],
   "source": [
    "destination_folder = \"training_logs/{}\".format(end_training.strftime(\"%Y-%m-%d %H.%M\"))\n",
    "os.makedirs(destination_folder, exist_ok=True)\n",
    "file = open('{}/summary.txt'.format(destination_folder), 'w')\n",
    "\n",
    "for f in [file, None]:\n",
    "    print(\"######################################\", file=f)\n",
    "    print(\"algorithm:\", ALGORITHM, file=f)\n",
    "    print(\"num eps:\", NUM_EPISODES, file=f)\n",
    "    print(\"discount:\", DISCOUNT_FACTOR, file=f)\n",
    "    print(\"learning rate:\", LEARNING_RATE, file=f)\n",
    "    print(\"started run:\", start_training, file=f)\n",
    "    print(\"ended run:\", end_training, file=f)\n",
    "    print(\"duration:\", (end_training - start_training).total_seconds(), file=f)\n",
    "    print(\"max reward:\", stats.episode_rewards.max(), \"@ episode:\", stats.episode_rewards.argmax(), file=f)\n",
    "    print(\"min reward:\", stats.episode_rewards.min(), \"@ episode:\", stats.episode_rewards.argmin(), file=f)\n",
    "    print(\"######################################\", file=f)\n",
    "file.close()\n",
    "\n",
    "figures = plotting.plot_episode_stats(stats, smoothing_window=100)\n",
    "\n",
    "for figure in figures:\n",
    "    figure.savefig('{}/{}.png'.format(destination_folder, figure.gca().get_title()))"
   ]
  },
  {
   "cell_type": "code",
   "execution_count": null,
   "metadata": {},
   "outputs": [],
   "source": []
  },
  {
   "cell_type": "code",
   "execution_count": 13,
   "metadata": {
    "Collapsed": "false"
   },
   "outputs": [],
   "source": [
    "## TF2\n",
    "# tf.keras.backend.clear_session()  # For easy reset of notebook state.\n",
    "# print(\"#######################################\")\n",
    "# print(\"started run:\", datetime.datetime.now())\n",
    "# print(\"#######################################\")\n",
    "# stats = actor_critic(env, policy_estimator, value_estimator, num_episodes=200, discount_factor=1.0)\n",
    "# print(\"######################################\")\n",
    "# print(\"ended run:\", datetime.datetime.now())\n",
    "# print(\"######################################\")"
   ]
  },
  {
   "cell_type": "code",
   "execution_count": null,
   "metadata": {},
   "outputs": [],
   "source": []
  }
 ],
 "metadata": {
  "kernelspec": {
   "display_name": "Python 3",
   "language": "python",
   "name": "python3"
  },
  "language_info": {
   "codemirror_mode": {
    "name": "ipython",
    "version": 3
   },
   "file_extension": ".py",
   "mimetype": "text/x-python",
   "name": "python",
   "nbconvert_exporter": "python",
   "pygments_lexer": "ipython3",
   "version": "3.6.9"
  }
 },
 "nbformat": 4,
 "nbformat_minor": 4
}
