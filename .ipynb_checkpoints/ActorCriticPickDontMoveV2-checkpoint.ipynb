{
 "cells": [
  {
   "cell_type": "code",
   "execution_count": 1,
   "metadata": {
    "Collapsed": "false"
   },
   "outputs": [],
   "source": [
    "%matplotlib inline\n",
    "\n",
    "import gym\n",
    "import itertools\n",
    "import matplotlib\n",
    "import numpy as np\n",
    "import sys\n",
    "import tensorflow as tf\n",
    "import collections\n",
    "import datetime\n",
    "import os\n",
    "import shutil\n",
    "from SimioEnv_v3 import SimioPickDontMoveEnv\n",
    "matplotlib.style.use('ggplot')"
   ]
  },
  {
   "cell_type": "code",
   "execution_count": 2,
   "metadata": {
    "Collapsed": "false",
    "scrolled": true
   },
   "outputs": [
    {
     "name": "stdout",
     "output_type": "stream",
     "text": [
      "Num Pickers:  1\n",
      "Num AGVs:  2\n",
      "Num Warehouse Locations:  8\n",
      "\n",
      "Action Space:\n",
      "=============\n",
      "Discrete(8)\n",
      "\n",
      "Observation Space:\n",
      "==================\n",
      "MultiDiscrete([ 2  2 11 20 20 20 20 20 20 20 20])\n"
     ]
    }
   ],
   "source": [
    "env = SimioPickDontMoveEnv(\n",
    "    num_locations=8, \n",
    "    num_pickers=1, \n",
    "    num_agvs=2,\n",
    "    log_output=False, \n",
    "    log_end_episode_only=False\n",
    "    )"
   ]
  },
  {
   "cell_type": "code",
   "execution_count": null,
   "metadata": {},
   "outputs": [],
   "source": [
    "state = env.reset()\n",
    "for i in range(1000):\n",
    "    next_state, reward, done, _ = env.steprandom(log=True)\n",
    "env.finalize()"
   ]
  },
  {
   "cell_type": "code",
   "execution_count": null,
   "metadata": {},
   "outputs": [],
   "source": []
  }
 ],
 "metadata": {
  "kernelspec": {
   "display_name": "Python 3",
   "language": "python",
   "name": "python3"
  },
  "language_info": {
   "codemirror_mode": {
    "name": "ipython",
    "version": 3
   },
   "file_extension": ".py",
   "mimetype": "text/x-python",
   "name": "python",
   "nbconvert_exporter": "python",
   "pygments_lexer": "ipython3",
   "version": "3.6.9"
  }
 },
 "nbformat": 4,
 "nbformat_minor": 4
}
