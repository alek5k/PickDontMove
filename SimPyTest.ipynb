{
 "cells": [
  {
   "cell_type": "code",
   "execution_count": null,
   "metadata": {},
   "outputs": [],
   "source": [
    "# !pip install simpy\n",
    "# !pip install networkx\n",
    "# !pip install matplotlib\n",
    "# !pip install numpy"
   ]
  },
  {
   "cell_type": "code",
   "execution_count": 1,
   "metadata": {},
   "outputs": [],
   "source": [
    "%matplotlib inline\n",
    "import simpy\n",
    "import networkx as nx\n",
    "from enum import Enum\n",
    "import matplotlib.pyplot as plt\n",
    "import numpy as np"
   ]
  },
  {
   "cell_type": "code",
   "execution_count": 2,
   "metadata": {},
   "outputs": [],
   "source": [
    "env = simpy.Environment()"
   ]
  },
  {
   "cell_type": "code",
   "execution_count": 3,
   "metadata": {},
   "outputs": [],
   "source": [
    "class Location:\n",
    "    def __init__(self, env, name, coords: tuple, is_actionable = True):\n",
    "        self.name = name\n",
    "        self.resource = simpy.Resource(env)\n",
    "        self.coords = coords\n",
    "        self.is_actionable = is_actionable\n",
    "    \n",
    "    def __repr__(self):\n",
    "        return self.name"
   ]
  },
  {
   "cell_type": "code",
   "execution_count": 4,
   "metadata": {},
   "outputs": [],
   "source": [
    "class LocationGraphBase:\n",
    "    def __init__(self):\n",
    "        self.G = nx.Graph()\n",
    "        \n",
    "    def add_edge(self, location1: Location, location2: Location):\n",
    "        weight = np.linalg.norm(np.array(location1.coords) - np.array(location2.coords))\n",
    "        self.G.add_edge(location1, location2, weight=weight)\n",
    "    \n",
    "    def draw(self):\n",
    "        # nx.draw(self.G, with_labels=True, font_weight='bold')\n",
    "        plt.figure(figsize=(10,10))\n",
    "        for node in self.G.nodes:\n",
    "            # print(node)\n",
    "            x, y = node.coords\n",
    "            plotstyle = 'ro' if node.is_actionable else 'go'\n",
    "            plt.plot(x, y, plotstyle)\n",
    "            x_text_offset = 0.1\n",
    "            y_text_offset = 0.2\n",
    "            plt.text(x + x_text_offset, y + y_text_offset, node.name)\n",
    "            \n",
    "        for edge in self.G.edges:\n",
    "            start, end = edge\n",
    "            start_x, start_y = start.coords\n",
    "            end_x, end_y = end.coords\n",
    "            plt.plot([start_x, end_x], [start_y, end_y], 'k-')\n",
    "        \n",
    "        ax = plt.gca()\n",
    "        ax.set_aspect(1.0)\n",
    "        ax.set(frame_on=False)\n",
    "        plt.show()\n",
    "        \n",
    "    def get_shortest_path(self, start: Location, end: Location):\n",
    "        return nx.shortest_path(self.G, start, end, weight='weight')"
   ]
  },
  {
   "cell_type": "code",
   "execution_count": 5,
   "metadata": {},
   "outputs": [],
   "source": [
    "class LocationGraph(LocationGraphBase):\n",
    "    def __init__(self, env, draw_on_initialize=True):\n",
    "        super().__init__()\n",
    "        \n",
    "        self.locations = [\n",
    "            Location(env, 'idle', (0, 0)),\n",
    "            Location(env, 'delivery', (0, 3)),\n",
    "            Location(env, 'preparation', (3, 0)),\n",
    "            Location(env, 'C', (3, 3), is_actionable=False),\n",
    "            \n",
    "            Location(env, 'S1', (3, 6), is_actionable=False), # start of aisle\n",
    "            Location(env, 'L1_1', (3, 9)),\n",
    "            Location(env, 'L1_2', (3, 12)),\n",
    "            Location(env, 'L1_3', (3, 15)),\n",
    "            Location(env, 'L1_4', (3, 18)),\n",
    "            Location(env, 'E1', (3, 21), is_actionable=False), # end of aisle\n",
    "            \n",
    "            Location(env, 'S2', (9, 6), is_actionable=False),\n",
    "            Location(env, 'L2_1', (9, 9)),\n",
    "            Location(env, 'L2_2', (9, 12)),\n",
    "            Location(env, 'L2_3', (9, 15)),\n",
    "            Location(env, 'L2_4', (9, 18)),\n",
    "            Location(env, 'E2', (9, 21), is_actionable=False)\n",
    "        ]\n",
    "        \n",
    "        location_ids = set([str(x) for x in self.locations])\n",
    "        if len(location_ids) != len(self.locations):\n",
    "            raise AssertionError(\"Location names are not unique\")\n",
    "            \n",
    "        # Base\n",
    "        self.add_edge(self.get('idle'), self.get('preparation'))\n",
    "        self.add_edge(self.get('idle'), self.get('delivery'))\n",
    "        self.add_edge(self.get('idle'), self.get('C'))\n",
    "        self.add_edge(self.get('C'), self.get('preparation'))\n",
    "        self.add_edge(self.get('C'), self.get('delivery'))\n",
    "        self.add_edge(self.get('C'), self.get('S1'))\n",
    "        \n",
    "        # Aisle 1\n",
    "        self.add_edge(self.get('S1'), self.get('L1_1'))\n",
    "        self.add_edge(self.get('L1_1'), self.get('L1_2'))\n",
    "        self.add_edge(self.get('L1_2'), self.get('L1_3'))\n",
    "        self.add_edge(self.get('L1_3'), self.get('L1_4'))\n",
    "        self.add_edge(self.get('L1_4'), self.get('E1'))\n",
    "        \n",
    "        # Aisle 2\n",
    "        self.add_edge(self.get('S2'), self.get('L2_1'))\n",
    "        self.add_edge(self.get('L2_1'), self.get('L2_2'))\n",
    "        self.add_edge(self.get('L2_2'), self.get('L2_3'))\n",
    "        self.add_edge(self.get('L2_3'), self.get('L2_4'))\n",
    "        self.add_edge(self.get('L2_4'), self.get('E2'))\n",
    "        \n",
    "        # inter aisle\n",
    "        self.add_edge(self.get('S1'), self.get('S2'))\n",
    "        self.add_edge(self.get('E1'), self.get('E2'))\n",
    "        \n",
    "        if draw_on_initialize:\n",
    "            self.draw()\n",
    "        \n",
    "    def get(self, name):\n",
    "        return next((x for x in self.locations if x.name == name), None)\n",
    "    \n",
    "    def get_shortest_path_by_name(self, start_name, end_name):\n",
    "        start = self.get(start_name)\n",
    "        end = self.get(end_name)\n",
    "        if start is None or end is None:\n",
    "            raise ValueError(\"Name provided does not exist\")\n",
    "        return self.get_shortest_path(start, end)"
   ]
  },
  {
   "cell_type": "code",
   "execution_count": 6,
   "metadata": {},
   "outputs": [
    {
     "data": {
      "image/png": "[encoded data removed]",
      "text/plain": [
       "<Figure size 720x720 with 1 Axes>"
      ]
     },
     "metadata": {
      "needs_background": "light"
     },
     "output_type": "display_data"
    }
   ],
   "source": [
    "locs = LocationGraph(env)"
   ]
  },
  {
   "cell_type": "code",
   "execution_count": null,
   "metadata": {},
   "outputs": [],
   "source": []
  },
  {
   "cell_type": "code",
   "execution_count": null,
   "metadata": {},
   "outputs": [],
   "source": []
  },
  {
   "cell_type": "code",
   "execution_count": 7,
   "metadata": {},
   "outputs": [],
   "source": [
    "class VehicleAction(Enum):\n",
    "    IDLE = 0\n",
    "    IN_TRANSIT = 1\n",
    "    \n",
    "class Vehicle:\n",
    "    def __init__(self, name, env, initial_location):\n",
    "        self.name = name\n",
    "        self.env = env\n",
    "        self.resource = simpy.Resource(env)\n",
    "        self._set_current_location(initial_location)\n",
    "        self.current_action = VehicleAction.IDLE\n",
    "        self.velocity = 1.0\n",
    "        \n",
    "        self.path_request = None\n",
    "        self.requested_path = []\n",
    "        self.path = []\n",
    "        \n",
    "        self.start_hop_time = None\n",
    "        self.end_hop_time = None\n",
    "        \n",
    "        self.env.process(self._set_in_use_trajectory())\n",
    "        self.env.process(self._move())\n",
    "        self.env.process(self._update_vehicle_coords())\n",
    "\n",
    "    def set_trajectory(self, path: list ):\n",
    "        assert(path.pop(0) == self.current_location)\n",
    "        self.requested_path = path\n",
    "    \n",
    "    def _set_in_use_trajectory(self):\n",
    "        while True:\n",
    "            if self.current_action == VehicleAction.IDLE and self.path != self.requested_path:\n",
    "                self.path_request = self.resource.request()\n",
    "                yield self.path_request # wait for access\n",
    "                self.path = self.requested_path\n",
    "            yield self.env.timeout(1.0)\n",
    "            \n",
    "            \n",
    "    def _set_current_location(self, location: Location):\n",
    "        self.current_location = location\n",
    "        self.coords = self.current_location.coords\n",
    "    \n",
    "    def _update_vehicle_coords(self):\n",
    "        while True:\n",
    "            while(self.current_action == VehicleAction.IN_TRANSIT):\n",
    "                hop_time_travelled = self.env.now - self.start_hop_time\n",
    "                total_hop_time = self.end_hop_time - self.start_hop_time\n",
    "                hop_start_coords = self.current_location.coords\n",
    "                hop_end_coords = self.path[0].coords\n",
    "                \n",
    "                current_travel_delta = (np.array(hop_end_coords) - np.array(hop_start_coords)) * (hop_time_travelled / total_hop_time)\n",
    "                current_coords = np.array(hop_start_coords) + current_travel_delta\n",
    "                self.coords = current_coords\n",
    "                # print(current_coords)\n",
    "                # print(\"time travelled\", time_travelled)\n",
    "                yield self.env.timeout(0.25)\n",
    "            yield self.env.timeout(1.0)\n",
    "    \n",
    "    \n",
    "    \n",
    "    # TODO: https://simpy.readthedocs.io/en/latest/topical_guides/resources.html#stores\n",
    "    # USE A STORE FOR THE TRAJECTORY\n",
    "    \n",
    "    def _move(self):\n",
    "        while True:\n",
    "            \n",
    "            # Start move\n",
    "            if (len(self.path) > 0):\n",
    "                print(self.name, \"start move.\")\n",
    "                \n",
    "            while len(self.path) > 0:\n",
    "                self.start_hop_time = self.env.now\n",
    "                self.current_action = VehicleAction.IN_TRANSIT\n",
    "                print(\"[t={:.2f}][{}]\".format(self.env.now, self.name), \"location={}\".format(self.current_location))\n",
    "\n",
    "                # Calculate expected end hop time (zero acceleration, constant velocity)\n",
    "                hop_distance = np.linalg.norm(np.array(self.current_location.coords) - np.array(self.path[0].coords))\n",
    "                hop_time = hop_distance / self.velocity\n",
    "                self.end_hop_time = self.start_hop_time + hop_time\n",
    "\n",
    "                yield self.env.timeout(hop_time)\n",
    "                \n",
    "                self._set_current_location(self.path.pop(0))\n",
    "                \n",
    "                if not self.path:\n",
    "                    self.current_action = VehicleAction.IDLE\n",
    "                    print(self.name, \"finishing move.\")\n",
    "                    self.resource.release(self.path_request)\n",
    "\n",
    "                \n",
    "\n",
    "\n",
    "            yield self.env.timeout(1.0)"
   ]
  },
  {
   "cell_type": "code",
   "execution_count": 8,
   "metadata": {},
   "outputs": [],
   "source": [
    "pickers = [\n",
    "    Vehicle('Picker0', env, locs.get('idle'))\n",
    "]\n",
    "\n",
    "agvs = [\n",
    "    Vehicle('AGV0', env, locs.get('idle')),\n",
    "    Vehicle('AGV1', env, locs.get('idle'))\n",
    "]"
   ]
  },
  {
   "cell_type": "code",
   "execution_count": 9,
   "metadata": {},
   "outputs": [],
   "source": [
    "# env.run(until=60)\n"
   ]
  },
  {
   "cell_type": "code",
   "execution_count": 10,
   "metadata": {},
   "outputs": [
    {
     "name": "stdout",
     "output_type": "stream",
     "text": [
      "AGV0 start move.\n",
      "[t=1.00][AGV0] location=idle\n",
      "AGV1 start move.\n",
      "[t=1.00][AGV1] location=idle\n",
      "[t=5.24][AGV0] location=C\n",
      "[t=5.24][AGV1] location=C\n",
      "[t=8.24][AGV0] location=S1\n",
      "[t=8.24][AGV1] location=S1\n",
      "[t=11.24][AGV1] location=L1_1\n",
      "[t=14.24][AGV0] location=S2\n",
      "[t=14.24][AGV1] location=L1_2\n",
      "[t=17.24][AGV0] location=L2_1\n",
      "[t=17.24][AGV1] location=L1_3\n",
      "[t=20.24][AGV0] location=L2_2\n",
      "AGV1 finishing move.\n",
      "AGV0 finishing move.\n"
     ]
    }
   ],
   "source": [
    "path = locs.get_shortest_path(agvs[0].current_location, locs.get('L2_3'))\n",
    "path_for_agv1 = locs.get_shortest_path(agvs[1].current_location, locs.get('L1_4'))\n",
    "\n",
    "agvs[0].set_trajectory(path)\n",
    "agvs[1].set_trajectory(path_for_agv1)\n",
    "\n",
    "env.run(until=30)\n",
    "\n",
    "\n",
    "\n",
    "#path = locs.get_shortest_path(agvs[0].current_location, locs.get('L1_3'))\n",
    "#agvs[0].set_trajectory(path)\n",
    "#env.run(until=60)"
   ]
  },
  {
   "cell_type": "code",
   "execution_count": null,
   "metadata": {},
   "outputs": [],
   "source": []
  },
  {
   "cell_type": "code",
   "execution_count": 11,
   "metadata": {},
   "outputs": [],
   "source": [
    "# def example(env):\n",
    "#     while True:\n",
    "#         yield env.timeout(1)\n",
    "#         print('here')\n",
    "# \n",
    "# env = simpy.Environment()\n",
    "# proc = env.process(example(env))"
   ]
  },
  {
   "cell_type": "code",
   "execution_count": 12,
   "metadata": {},
   "outputs": [],
   "source": [
    "# env.run(until=60)"
   ]
  },
  {
   "cell_type": "code",
   "execution_count": null,
   "metadata": {},
   "outputs": [],
   "source": []
  }
 ],
 "metadata": {
  "kernelspec": {
   "display_name": "Python 3",
   "language": "python",
   "name": "python3"
  },
  "language_info": {
   "codemirror_mode": {
    "name": "ipython",
    "version": 3
   },
   "file_extension": ".py",
   "mimetype": "text/x-python",
   "name": "python",
   "nbconvert_exporter": "python",
   "pygments_lexer": "ipython3",
   "version": "3.6.9"
  }
 },
 "nbformat": 4,
 "nbformat_minor": 4
}
