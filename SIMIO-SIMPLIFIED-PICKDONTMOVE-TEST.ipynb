{
 "cells": [
  {
   "cell_type": "code",
   "execution_count": 2,
   "metadata": {
    "scrolled": false
   },
   "outputs": [],
   "source": [
    "from SimioEnv import SimioPickDontMoveSimplifiedEnv\n",
    "from gym import spaces\n",
    "import numpy as np\n",
    "from gym_helpers import flatten_space_sample\n",
    "# import tensorflow as tf\n",
    "\n",
    "from IPython.core.debugger import set_trace # https://medium.com/@chrieke/jupyter-tips-and-tricks-994fdddb2057"
   ]
  },
  {
   "cell_type": "markdown",
   "metadata": {
    "toc-hr-collapsed": false
   },
   "source": [
    "## Simio Interface Test"
   ]
  },
  {
   "cell_type": "code",
   "execution_count": 3,
   "metadata": {
    "scrolled": false
   },
   "outputs": [
    {
     "name": "stdout",
     "output_type": "stream",
     "text": [
      "\n",
      "Action Space:\n",
      "=============\n",
      "MultiDiscrete([3])\n",
      "\n",
      "Observation Space:\n",
      "==================\n",
      "Discrete(11)\n",
      "Discrete(11)\n",
      "MultiDiscrete([100 100 100 100 100 100 100 100])\n",
      "Discrete(11)\n",
      "MultiDiscrete([100 100 100 100 100 100 100 100])\n"
     ]
    }
   ],
   "source": [
    "env = SimioPickDontMoveSimplifiedEnv(\n",
    "    num_locations=8, \n",
    "    num_pickers=1, \n",
    "    num_agvs=2, \n",
    "    log_output=False,\n",
    "    log_end_episode_only=False)\n",
    "\n",
    "print()\n",
    "print(\"Action Space:\")\n",
    "print(\"=============\")\n",
    "print(env.action_space)\n",
    "print()\n",
    "print(\"Observation Space:\")\n",
    "print(\"==================\")\n",
    "for statevar in env.observation_space:\n",
    "    print(statevar)"
   ]
  },
  {
   "cell_type": "code",
   "execution_count": 4,
   "metadata": {},
   "outputs": [
    {
     "name": "stdout",
     "output_type": "stream",
     "text": [
      "Picker Observation Space: 1\n",
      "Picker Action Space: 1\n",
      "AGV Observation Space: 9\n"
     ]
    }
   ],
   "source": [
    "print(\"Picker Observation Space:\", len(flatten_space_sample(env.picker_observation_space.sample())))\n",
    "print(\"Picker Action Space:\", len(flatten_space_sample(env.picker_action_space.sample())))\n",
    "print(\"AGV Observation Space:\", len(flatten_space_sample(env.agv_observation_space.sample())))\n",
    "#print(\"AGV Action Space:\", len(flatten_space_sample(env.agv_action_space.sample())))"
   ]
  },
  {
   "cell_type": "code",
   "execution_count": null,
   "metadata": {},
   "outputs": [
    {
     "name": "stdout",
     "output_type": "stream",
     "text": [
      "action:  {'PickerAction': 1}\n",
      "action:  {'PickerAction': 2}\n",
      "action:  {'PickerAction': 1}\n",
      "action:  {'PickerAction': 0}\n",
      "action:  {'PickerAction': 2}\n",
      "action:  {'PickerAction': 1}\n",
      "action:  {'PickerAction': 1}\n",
      "action:  {'PickerAction': 1}\n",
      "action:  {'PickerAction': 1}\n",
      "action:  {'PickerAction': 1}\n",
      "action:  {'PickerAction': 0}\n",
      "action:  {'PickerAction': 1}\n",
      "action:  {'PickerAction': 1}\n",
      "action:  {'PickerAction': 1}\n",
      "action:  {'PickerAction': 2}\n",
      "action:  {'PickerAction': 2}\n",
      "action:  {'PickerAction': 0}\n",
      "action:  {'PickerAction': 1}\n",
      "action:  {'PickerAction': 1}\n",
      "action:  {'PickerAction': 2}\n",
      "action:  {'PickerAction': 0}\n",
      "action:  {'PickerAction': 0}\n",
      "action:  {'PickerAction': 2}\n",
      "action:  {'PickerAction': 0}\n",
      "action:  {'PickerAction': 0}\n",
      "action:  {'PickerAction': 2}\n",
      "action:  {'PickerAction': 1}\n"
     ]
    }
   ],
   "source": [
    "state = env.reset()\n",
    "for i in range(100000):\n",
    "    next_state, reward, done, _ = env.steprandom(log=True)\n",
    "env.finalize()"
   ]
  }
 ],
 "metadata": {
  "kernelspec": {
   "display_name": "Python 3",
   "language": "python",
   "name": "python3"
  },
  "language_info": {
   "codemirror_mode": {
    "name": "ipython",
    "version": 3
   },
   "file_extension": ".py",
   "mimetype": "text/x-python",
   "name": "python",
   "nbconvert_exporter": "python",
   "pygments_lexer": "ipython3",
   "version": "3.6.8"
  }
 },
 "nbformat": 4,
 "nbformat_minor": 2
}
